{
 "cells": [
  {
   "cell_type": "markdown",
   "metadata": {
    "pycharm": {
     "name": "#%% md\n"
    }
   },
   "source": [
    "# Regression mit Scikit-learn\n",
    "\n",
    "<a href=\"https://scikit-learn.org/stable/\">_Scikit-learn_</a> ist ein Modul für Machine Learning in Python. Neben den Machine Learning Methoden stellt Scikit-learn auch Methoden für Datenvorverarbeitung und zum Laden der Datensätze zur Verfügung, die in der Forschung zum Testen und Vergleichen verschiedener Methoden eingesetzt werden."
   ]
  },
  {
   "cell_type": "markdown",
   "metadata": {
    "pycharm": {
     "name": "#%% md\n"
    }
   },
   "source": [
    "## Lineare Regression\n",
    "\n",
    "Lineare Regression modelliert die Beziehung zwischen den Werten \"erklärender\" Merkmale und den _kontinuierlichen_ also fortlaufenden Werten eines Zielmerkmals. Die entsprechende Funktion dafür ist im Untermodul <a href=\"https://scikit-learn.org/stable/modules/classes.html#module-sklearn.linear_model\">_Linear Models_</a> enthalten. Das Untermodul <a href=\"https://scikit-learn.org/stable/modules/classes.html#module-sklearn.datasets\">_Datasets_</a> enthält Hilfsprogramme zum Laden von Referenzdatensätzen. Das Untermodul <a href=\"https://scikit-learn.org/stable/modules/classes.html#module-sklearn.model_selection\">_Model Selection_</a> stellt viele Funktionen zum Aufteilen der Datensätze in _Trainings-_ und _Testteilmengen_ zur Verfügung."
   ]
  },
  {
   "cell_type": "code",
   "execution_count": null,
   "metadata": {
    "pycharm": {
     "name": "#%%\n"
    }
   },
   "outputs": [],
   "source": [
    "from sklearn import linear_model, datasets, model_selection\n",
    "import plotly.express as px\n",
    "import plotly.offline as pyo\n",
    "import plotly.graph_objects as go"
   ]
  },
  {
   "cell_type": "markdown",
   "metadata": {
    "pycharm": {
     "name": "#%% md\n"
    }
   },
   "source": [
    "Im Folgenden arbeiten wir mit dem <a href=\"https://www.dcc.fc.up.pt/~ltorgo/Regression/cal_housing.html\">_California Housing Dataset_</a>, der Informationen über die Blockgruppen in Kalifornien wie mittleres Einkommen, mittleres Alter der Häuser, durchschnittliche Anzahl der Haushaltsmitglieder in der Blockgruppe enthält. Das Zielmerkmal enthält den mittleren Hauswert (in 100.000 $) für den kalifornischen Bezirk, in dem sich die Blockgruppe befindet.\n",
    "\n",
    "Der Datensatz _California Housing_ kann mit der Funktion <a href=\"https://scikit-learn.org/stable/modules/generated/sklearn.datasets.fetch_california_housing.html\">_fetch_california_housing()_</a> geladen werden. Damit die Werte der beschreibenden Merkmale und des Zielmerkmals in getrennte _ndarrays_ geladen werden, wird der Parameter _return\\_X\\_y_ auf _True_ gesetzt."
   ]
  },
  {
   "cell_type": "code",
   "execution_count": null,
   "metadata": {
    "pycharm": {
     "name": "#%%\n"
    }
   },
   "outputs": [],
   "source": [
    "# Lade den Datensatz \"California Housing\"\n",
    "X_california_housing, y_california_housing =\\\n",
    "    datasets.fetch_california_housing(return_X_y=True)"
   ]
  },
  {
   "cell_type": "markdown",
   "metadata": {
    "pycharm": {
     "name": "#%% md\n"
    }
   },
   "source": [
    "Einfachheitshalber wird nur das erste Merkmal, also das mittlere Einkommen in der Blockgruppe, als \"erklärendes\" Merkmal benutzt."
   ]
  },
  {
   "cell_type": "code",
   "execution_count": null,
   "metadata": {
    "pycharm": {
     "name": "#%%\n"
    }
   },
   "outputs": [],
   "source": [
    "# Selektiere nur die erste Spalte des Arrays X_california_housing\n",
    "X_california_housing = X_california_housing[:, 0]"
   ]
  },
  {
   "cell_type": "markdown",
   "metadata": {
    "pycharm": {
     "name": "#%% md\n"
    }
   },
   "source": [
    "Die Beobachtungen werden durch ihre Werte für das mittlere Einkommen und den mittleren Hauswert grafisch dargestellt. Anhand der Grafik kann man einen linearen Zusammenhang zwischen diesen beiden Merkmalen bereits vermuten."
   ]
  },
  {
   "cell_type": "code",
   "execution_count": null,
   "metadata": {
    "pycharm": {
     "name": "#%%\n"
    }
   },
   "outputs": [],
   "source": [
    "pyo.init_notebook_mode()\n",
    "fig1 = px.scatter(x=X_california_housing, y=y_california_housing)\n",
    "fig1.update_layout(xaxis_title='Mittleres Einkommen',\n",
    "                   yaxis_title='Mittlerer Hauswert')\n",
    "fig1.show()"
   ]
  },
  {
   "cell_type": "markdown",
   "metadata": {
    "pycharm": {
     "name": "#%% md\n"
    }
   },
   "source": [
    "Da aus der gesamten Datenmatrix nur ein Merkmal verwendet wurde, wurde das Datenarray zu einem eindimensionalen _ndarray_ reduziert. Wie wir später sehen werden, erfordert die Funktion zum Trainieren des Regressionsmodells eine zweidimensionale Datenmatrix als Eingabe. Um das Datenarray um eine Dimension zu erweitern, wird ihm eine zweite Dimension ohne Werte hinzugefügt. Dafür wird der Wert _None_ verwendet, der in Python die Abwesenheit eines Wertes repräsentiert."
   ]
  },
  {
   "cell_type": "code",
   "execution_count": null,
   "metadata": {
    "pycharm": {
     "name": "#%%\n"
    }
   },
   "outputs": [],
   "source": [
    "# Erweitere das Datenarray um eine Dimension\n",
    "X_california_housing = X_california_housing[:, None]\n",
    "print(X_california_housing.shape)"
   ]
  },
  {
   "cell_type": "markdown",
   "metadata": {
    "pycharm": {
     "name": "#%% md\n"
    }
   },
   "source": [
    "Bevor ein Regressionsmodell auf den Daten trainiert werden kann, muss die Datenmatrix in Trainings- und Testmenge zerlegt werden. Dafür kann die Funktion <a href=\"https://scikit-learn.org/stable/modules/generated/sklearn.model_selection.train_test_split.html\">_train\\_test\\_split()_</a> des Untermoduls von _Scikit-learn_ _Model Selection_ genutzt werden. Diese Funktion erwartet als Eingabe die Datenmatrix mit dem entsprechenden Zielmerkmal. Mit dem Parameter _test\\_size_ kann man die Größe der Testmenge angeben. In den Voreinstellungen der Funktion ist festgelegt, dass die Beobachtungen vor dem Zerlegen gemischt werden. Wenn man das nicht erwünscht ist, muss der Parameter _shuffle_ auf _False_ gesetzt werden."
   ]
  },
  {
   "cell_type": "code",
   "execution_count": null,
   "metadata": {
    "pycharm": {
     "name": "#%%\n"
    }
   },
   "outputs": [],
   "source": [
    "# Zerlege den Datensatz in die Trainings- und Testmenge\n",
    "X_train, X_test, y_train, y_test =\\\n",
    "    model_selection.train_test_split(X_california_housing,\n",
    "                                     y_california_housing,\n",
    "                                     test_size = 0.1,\n",
    "                                     random_state = 45)"
   ]
  },
  {
   "cell_type": "markdown",
   "metadata": {
    "pycharm": {
     "name": "#%% md\n"
    }
   },
   "source": [
    "Ein lineares Regressionsmodell wird mit der Funktion <a href=\"https://scikit-learn.org/stable/modules/generated/sklearn.linear_model.LinearRegression.html\">_LinearRegression()_</a> des _Scikit-learn_-Untermoduls _Linear Models_ erstellt. Das Trainieren des Modells erfolgt mit der Funktion _fit()_, die die Trainingsmenge und das entsprechende Zielarray als Eingabe erhält."
   ]
  },
  {
   "cell_type": "code",
   "execution_count": null,
   "metadata": {
    "pycharm": {
     "name": "#%%\n"
    }
   },
   "outputs": [],
   "source": [
    "# Erstelle ein lineares Regressionsmodell\n",
    "lin_reg = linear_model.LinearRegression()\n",
    "\n",
    "# Trainiere das Modell mit der Trainingsmenge\n",
    "lin_reg.fit(X_train, y_train)"
   ]
  },
  {
   "cell_type": "markdown",
   "metadata": {
    "pycharm": {
     "name": "#%% md\n"
    }
   },
   "source": [
    "Mit der Funktion _predict()_ werden die Vorhersagen für alle Beobachtungen der Testmenge getroffen."
   ]
  },
  {
   "cell_type": "code",
   "execution_count": null,
   "metadata": {
    "pycharm": {
     "name": "#%%\n"
    }
   },
   "outputs": [],
   "source": [
    "# Erstelle die Vorhersagen für die gesamte Testmenge\n",
    "y_pred = lin_reg.predict(X_test)"
   ]
  },
  {
   "cell_type": "markdown",
   "metadata": {
    "pycharm": {
     "name": "#%% md\n"
    }
   },
   "source": [
    "Im Folgenden wird der Wert des beschreibenden Merkmals, der tatsächliche und der geschätzte Wert des Zielmerkmals für die erste Beobachtung der Testmenge ausgegeben."
   ]
  },
  {
   "cell_type": "code",
   "execution_count": null,
   "metadata": {
    "pycharm": {
     "name": "#%%\n"
    }
   },
   "outputs": [],
   "source": [
    "# Gebe den Wert des beschreibenden Merkmals für\n",
    "# die erste Beobachtung der Testmenge aus\n",
    "print(\"Das mittlere Einkommen der ersten \"\n",
    "      \"Beobachtung aus der Testmenge:\", X_test[0,0])\n",
    "\n",
    "# Gebe den tatsächlichen Wert des Zielmerkmals für\n",
    "# die erste Beobachtung der Testmenge aus\n",
    "print(\"Der tatsächliche mittlere Hauswert der \"\n",
    "      \"ersten Beobachtung aus der Testmenge:\", y_test[0])\n",
    "\n",
    "# Gebe den geschätzten Wert des Zielmerkmals für\n",
    "# die erste Beobachtung der Testmenge aus\n",
    "print(\"Der geschätzte mittlere Hauswert der \"\n",
    "      \"ersten Beobachtung aus der Testmenge:\", y_pred[0])"
   ]
  },
  {
   "cell_type": "markdown",
   "metadata": {
    "pycharm": {
     "name": "#%% md\n"
    }
   },
   "source": [
    "Mit dem Befehl _coef\\__ können die geschätzten Koeffizienten für das lineare Regressionsproblem ausgegeben werden. Diese entsprechen der Steigung der Regressionsgerade."
   ]
  },
  {
   "cell_type": "code",
   "execution_count": null,
   "metadata": {
    "pycharm": {
     "name": "#%%\n"
    }
   },
   "outputs": [],
   "source": [
    "# Gebe die Koeffizienten aus\n",
    "print(\"Koeffizienten: \\n\", lin_reg.coef_)"
   ]
  },
  {
   "cell_type": "markdown",
   "metadata": {
    "pycharm": {
     "name": "#%% md\n"
    }
   },
   "source": [
    "Mithilfe der Vorhersagewerten kann die Regressionsgerade visualisiert werden."
   ]
  },
  {
   "cell_type": "code",
   "execution_count": null,
   "metadata": {
    "pycharm": {
     "name": "#%%\n"
    }
   },
   "outputs": [],
   "source": [
    "fig2 = px.line(x=X_test[:,0], y=y_pred, color_discrete_sequence=['red'])\n",
    "fig3 = go.Figure(data=fig1.data + fig2.data)\n",
    "fig3.update_layout(xaxis_title='Mittleres Einkommen', yaxis_title='Mittlerer Hauswert')\n",
    "fig3.show()"
   ]
  },
  {
   "cell_type": "markdown",
   "metadata": {
    "pycharm": {
     "name": "#%% md\n"
    }
   },
   "source": [
    "## Logistische Regression\n",
    "\n",
    "Logistische Regression modelliert die Beziehung zwischen den Werten “erklärender” Merkmale und den Werten eines kategorialen Zielmerkmals. Um die Funktionsweise dieser Methode besser zeigen zu können, laden wir den <a href=\"https://archive.ics.uci.edu/ml/datasets/Breast+Cancer+Wisconsin+(Diagnostic)\">_Breast Cancer Wisconsin (Diagnostic)_</a> Datensatz mit der Funktion <a href=\"https://scikit-learn.org/stable/modules/generated/sklearn.datasets.load_breast_cancer.html\">_load_breast_cancer()_</a>. Die Merkmale dieses Datensatzes beschreiben einige Eigenschaften der Zellkerne in digitalisierten Bildern von der Feinnadelaspiration der Brustmasse. Die Werte des Zielmerkmals geben an, ob der Tumor gutartig (_benign_) oder bösartig (_malignant_) ist. Dabei steht die Merkmalsausprägung 1 für einen gutartigen und 0 für einen bösartigen Tumor."
   ]
  },
  {
   "cell_type": "code",
   "execution_count": null,
   "metadata": {
    "pycharm": {
     "name": "#%%\n"
    }
   },
   "outputs": [],
   "source": [
    "# Lade den Datensatz \"Breast Cancer Wisconsin (Diagnostic)\"\n",
    "X_breast_cancer, y_breast_cancer = \\\n",
    "    datasets.load_breast_cancer(return_X_y=True)"
   ]
  },
  {
   "cell_type": "markdown",
   "metadata": {
    "pycharm": {
     "name": "#%% md\n"
    }
   },
   "source": [
    "Wir beschränken uns wieder auf die Betrachtung des ersten Merkmals, das dem Radius des Zellkerns entspricht, und visualisieren diesen in Abhängigkeit von dem Zielmerkmal."
   ]
  },
  {
   "cell_type": "code",
   "execution_count": null,
   "metadata": {
    "pycharm": {
     "name": "#%%\n"
    }
   },
   "outputs": [],
   "source": [
    "# Wähle nur die erste Spalte des Arrays X_breast_cancer\n",
    "X_breast_cancer = X_breast_cancer[:, 0]\n",
    "\n",
    "fig4 = px.scatter(x=X_breast_cancer, y=y_breast_cancer)\n",
    "fig4.update_layout(xaxis_title='Radius des Zellkerns',\n",
    "                   yaxis_title='Wahrscheinlichkeit für '\n",
    "                               'den gutartigen Tumor')\n",
    "fig4.show()"
   ]
  },
  {
   "cell_type": "markdown",
   "metadata": {
    "pycharm": {
     "name": "#%% md\n"
    }
   },
   "source": [
    "Das Datenarray wird um eine Dimension erweitert und in Trainings- und Testmenge aufgeteilt."
   ]
  },
  {
   "cell_type": "code",
   "execution_count": null,
   "metadata": {
    "pycharm": {
     "name": "#%%\n"
    }
   },
   "outputs": [],
   "source": [
    "# Erweitere das Datenarray um eine Dimension\n",
    "X_breast_cancer = X_breast_cancer[:, None]\n",
    "print(X_breast_cancer.shape)\n",
    "\n",
    "# Zerlege den Datensatz in die Training- und Testmenge\n",
    "X_train_bc, X_test_bc, y_train_bc, y_test_bc =\\\n",
    "    model_selection.train_test_split(X_breast_cancer,\n",
    "                                     y_breast_cancer,\n",
    "                                     test_size=0.1,\n",
    "                                     random_state = 45)"
   ]
  },
  {
   "cell_type": "markdown",
   "metadata": {
    "pycharm": {
     "name": "#%% md\n"
    }
   },
   "source": [
    "Das logistische Regressionsmodell wird mit der Funktion <a href=\"https://scikit-learn.org/stable/modules/generated/sklearn.linear_model.LogisticRegression.html\">_LogisticRegression()_</a> des _Scikit-learn_-Untermoduls _Linear Models_ erstellt. Mit dem Parameter _max\\_iter_ kann man die Anzahl der Iterationen beschränken, die der Optimierungsalgorithmus durchlaufen soll. Das Trainieren des Modells erfolgt wieder mit der Funktion _fit()_."
   ]
  },
  {
   "cell_type": "code",
   "execution_count": null,
   "metadata": {
    "pycharm": {
     "name": "#%%\n"
    }
   },
   "outputs": [],
   "source": [
    "# Erstelle ein logistisches Regressionsmodell\n",
    "log_reg = linear_model.LogisticRegression(max_iter = 1000)\n",
    "\n",
    "# Trainiere das Modell mit der Trainingsmenge\n",
    "log_reg.fit(X_train_bc, y_train_bc)"
   ]
  },
  {
   "cell_type": "markdown",
   "metadata": {
    "pycharm": {
     "name": "#%% md\n"
    }
   },
   "source": [
    "Die Wahrscheinlichkeitswerte für die Zugehörigkeit zu den beiden Ausprägungen des Zielmerkmals werden für die Testmenge mit der Funktion _predict\\_proba()_ vorhergesagt. Mit deren Hilfe kann die Regressionskurve andeutungsweise visualisiert werden."
   ]
  },
  {
   "cell_type": "code",
   "execution_count": null,
   "metadata": {
    "pycharm": {
     "name": "#%%\n"
    }
   },
   "outputs": [],
   "source": [
    "# Erstelle die Vorhersagen für die gesamte Testmenge\n",
    "y_pred_bc = log_reg.predict_proba(X_test_bc)"
   ]
  },
  {
   "cell_type": "code",
   "execution_count": null,
   "metadata": {
    "pycharm": {
     "name": "#%%\n"
    }
   },
   "outputs": [],
   "source": [
    "# Gebe den Wert des beschreibenden Merkmals für\n",
    "# die erste Beobachtung der Testmenge aus\n",
    "print(\"Der Radius des Zellkerns der ersten \"\n",
    "      \"Beobachtung aus der Testmenge:\", X_test_bc[0,0])\n",
    "\n",
    "# Gebe den tatsächlichen Wert des Zielmerkmals für\n",
    "# die erste Beobachtung der Testmenge aus\n",
    "print(\"Die tatsächliche Zugehörigkeit zu einem bösartigen \"\n",
    "      \"bzw. gutartigen Tumor der ersten Beobachtung \"\n",
    "      \"aus der Testmenge:\", y_test_bc[0])\n",
    "\n",
    "# Gebe die geschätzten Wahrscheinlichkeiten der Zugehörigkeit\n",
    "# der ersten Beobachtung aus der Testmenge zu allen\n",
    "# Ausprägungen des Zielmerkmals aus\n",
    "print(\"Die geschätzten Wahrscheinlichkeiten der Zugehörigkeit \"\n",
    "      \"der ersten Beobachtung aus der Testmenge zu einem bösartigen \"\n",
    "      \"bzw. gutartigen Tumor:\", y_pred_bc[0])"
   ]
  },
  {
   "cell_type": "code",
   "execution_count": null,
   "metadata": {
    "pycharm": {
     "name": "#%%\n"
    }
   },
   "outputs": [],
   "source": [
    "fig5 = px.scatter(x=X_test_bc[:,0], y=y_pred_bc[:,1],\n",
    "                  color_discrete_sequence=['red'])\n",
    "fig6 = go.Figure(data=fig4.data + fig5.data)\n",
    "fig6.update_layout(xaxis_title='Radius des Zellkerns',\n",
    "                   yaxis_title='Wahrscheinlichkeit für '\n",
    "                               'den gutartigen Tumor')\n",
    "fig6.show()"
   ]
  },
  {
   "cell_type": "code",
   "execution_count": null,
   "metadata": {
    "pycharm": {
     "name": "#%%\n"
    }
   },
   "outputs": [],
   "source": []
  },
  {
   "cell_type": "code",
   "execution_count": null,
   "metadata": {
    "pycharm": {
     "name": "#%%\n"
    }
   },
   "outputs": [],
   "source": []
  }
 ],
 "metadata": {
  "hide_input": false,
  "kernelspec": {
   "display_name": "Python (AI4all_I)",
   "language": "python",
   "name": "python-ai4all_i"
  },
  "language_info": {
   "codemirror_mode": {
    "name": "ipython",
    "version": 3
   },
   "file_extension": ".py",
   "mimetype": "text/x-python",
   "name": "python",
   "nbconvert_exporter": "python",
   "pygments_lexer": "ipython3",
   "version": "3.10.9"
  }
 },
 "nbformat": 4,
 "nbformat_minor": 1
}