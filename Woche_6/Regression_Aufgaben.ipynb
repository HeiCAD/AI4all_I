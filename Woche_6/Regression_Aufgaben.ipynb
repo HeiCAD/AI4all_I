{
 "cells": [
  {
   "cell_type": "markdown",
   "source": [
    "# Aufgabe (_Aufteilung des Datensatzes in eine Trainings- und eine Testmenge_)\n",
    "\n",
    "Im _ndarray_ _patienten\\_daten_ sind das Alter, die Größe und das Gewicht von vier Patienten gespeichert. Das _ndarray_ _gesund_ enthält die Information darüber, ob eine bestimmte Therapie bei diesen Patienten zu einem Erfolg (mit 1 kodiert) oder zu einem Misserfolg (mit 0 kodiert) geführt hat. Teile den Datensatz in eine Trainings- und eine Testmenge auf, so dass die Testmenge 25% aller Beobachtungen enthält."
   ],
   "metadata": {
    "collapsed": false,
    "pycharm": {
     "name": "#%% md\n"
    }
   }
  },
  {
   "cell_type": "code",
   "execution_count": null,
   "outputs": [],
   "source": [
    "import numpy as np\n",
    "from sklearn import model_selection\n",
    "\n",
    "patienten_daten = np.array([[45, 1.82, 78.5], [35, 1.73, 56.3],\n",
    "                           [67, 1.87, 82], [23, 1.95, 90.4]])\n",
    "gesund = np.array([1, 0, 1, 0])\n",
    "\n",
    "# Hier kommt deine Lösung\n",
    "\n"
   ],
   "metadata": {
    "collapsed": false,
    "pycharm": {
     "name": "#%%\n"
    }
   }
  },
  {
   "cell_type": "markdown",
   "source": [
    "# Aufgabe (_Logistische Regression_)\n",
    "\n",
    "Die _ndarrays_ _X\\_train_, _X\\_test_, _y\\_train_ und _y\\_test_ repräsentieren eine mögliche Zerlegung in eine Trainings- und eine Testmenge des Datensatzes aus _Aufgabe 1_.\n",
    "\n",
    "* a) Erstelle ein logistisches Regressionsmodell und trainiere die Trainingsmenge damit.\n",
    "* b) Prognostiziere mit dem trainierten logistischen Regressionsmodell den Therapieerfolg für die Beobachtung aus der Testmenge.\n",
    "\n",
    "Ergänze deine Anweisungen mit sinnvollen Kommentaren."
   ],
   "metadata": {
    "collapsed": false,
    "pycharm": {
     "name": "#%% md\n"
    }
   }
  },
  {
   "cell_type": "code",
   "execution_count": null,
   "outputs": [],
   "source": [
    "import numpy as np\n",
    "from sklearn import linear_model\n",
    "\n",
    "X_train = np.array([[67, 1.87, 82], [35, 1.73, 56.3], [45, 1.82, 78.5]])\n",
    "X_test = np.array([[23, 1.95, 90.4]])\n",
    "y_train = np.array([1, 0, 1])\n",
    "y_test = np.array([0])\n",
    "\n",
    "# Hier kommt deine Lösung für Teilaufgabe a)\n",
    "\n",
    "\n",
    "\n",
    "\n",
    "# Hier kommt deine Lösung für Teilaufgabe b)\n",
    "\n"
   ],
   "metadata": {
    "collapsed": false,
    "pycharm": {
     "name": "#%%\n"
    }
   }
  },
  {
   "cell_type": "markdown",
   "source": [
    "# Aufgabe (_Lineare Regression_)\n",
    "\n",
    "In der unten stehenden Datentabelle sind die erreichten Punkte für drei Zwischentests und die Klausurnote für sechs Kursteilnehmern zusammengefasst."
   ],
   "metadata": {
    "collapsed": false,
    "pycharm": {
     "name": "#%% md\n"
    }
   }
  },
  {
   "cell_type": "markdown",
   "source": [
    "<center>\n",
    "<table>\n",
    "  <tr>\n",
    "    <th> <center></center> </th>\n",
    "    <th> Punkte für Test 1 </th>\n",
    "    <th> Punkte für Test 2 </th>\n",
    "    <th> Punkte für Test 3 </th>\n",
    "    <th> Klausurnote </th>\n",
    "  </tr>\n",
    "  <tr>\n",
    "    <td> Teilnehmer 1 </td>\n",
    "    <td> <center>20</center> </td>\n",
    "    <td> <center>45</center> </td>\n",
    "    <td> <center>0</center> </td>\n",
    "    <td> <center>5,0</center> </td>\n",
    "  </tr>\n",
    "    <tr>\n",
    "    <td> Teilnehmer 2 </td>\n",
    "    <td> <center>80</center> </td>\n",
    "    <td> <center>91</center> </td>\n",
    "    <td> <center>65</center> </td>\n",
    "    <td> <center>1,3</center> </td>\n",
    "  </tr>\n",
    "    <tr>\n",
    "    <td> Teilnehmer 3 </td>\n",
    "    <td> <center>50</center> </td>\n",
    "    <td> <center>25</center> </td>\n",
    "    <td> <center>52</center> </td>\n",
    "    <td> <center>3,7</center> </td>\n",
    "  </tr>\n",
    "    <tr>\n",
    "    <td> Teilnehmer 4 </td>\n",
    "    <td> <center>100</center> </td>\n",
    "    <td> <center>87</center> </td>\n",
    "    <td> <center>45</center> </td>\n",
    "    <td> <center>2,7</center> </td>\n",
    "  </tr>\n",
    "      <tr>\n",
    "    <td> Teilnehmer 5 </td>\n",
    "    <td> <center>90</center> </td>\n",
    "    <td> <center>95</center> </td>\n",
    "    <td> <center>82</center> </td>\n",
    "    <td> <center>1,0</center> </td>\n",
    "  </tr>\n",
    "    <tr>\n",
    "    <td> Teilnehmer 6 </td>\n",
    "    <td> <center>60</center> </td>\n",
    "    <td> <center>47</center> </td>\n",
    "    <td> <center>51</center> </td>\n",
    "    <td> <center>4,0</center> </td>\n",
    "  </tr>\n",
    "</table>\n",
    "</center>"
   ],
   "metadata": {
    "collapsed": false,
    "pycharm": {
     "name": "#%% md\n"
    }
   }
  },
  {
   "cell_type": "markdown",
   "source": [
    "Die in den Zwischentests erreichten Punkte werden im _ndarray_ _test\\_punkte_ und die Klausurnoten im _ndarray_ _klausurnote_ gespeichert. Die _ndarrays_ _X\\_train\\_stud_, _X\\_test\\_stud_, _y\\_train\\_stud_ und _y\\_test\\_stud_ repräsentieren eine mögliche Zerlegung in eine Trainings- und eine Testmenge des Datensatzes aus der Tabelle.\n",
    "\n",
    "* a) Erstelle ein lineares Regressionsmodell für die Klausurnotenvorhersage und trainiere die Trainingsmenge damit.\n",
    "* b) Prognostiziere mit dem trainierten linearen Regressionsmodell die Klausurnoten für die gesamte Testmenge.\n",
    "\n",
    "Ergänze deine Anweisungen mit sinnvollen Kommentaren."
   ],
   "metadata": {
    "collapsed": false,
    "pycharm": {
     "name": "#%% md\n"
    }
   }
  },
  {
   "cell_type": "code",
   "execution_count": null,
   "outputs": [],
   "source": [
    "import numpy as np\n",
    "from sklearn import model_selection, linear_model\n",
    "\n",
    "test_punkte = np.array([[20, 45, 0], [80, 91, 65], [50, 25, 52],\n",
    "                        [100, 87, 45], [90, 95, 82], [60, 47, 51]])\n",
    "klausurnote = np.array([5.0, 1.3, 3.7, 2.7, 1.0, 4.0])\n",
    "\n",
    "X_train_stud, X_test_stud, y_train_stud, y_test_stud = \\\n",
    "    model_selection.train_test_split(test_punkte,\n",
    "                                     klausurnote,\n",
    "                                     test_size = 0.3,\n",
    "                                     random_state = 45)\n",
    "\n",
    "# Hier kommt deine Lösung für Teilaufgabe a)\n",
    "\n",
    "\n",
    "\n",
    "\n",
    "# Hier kommt deine Lösung für Teilaufgabe b)\n",
    "\n"
   ],
   "metadata": {
    "collapsed": false,
    "pycharm": {
     "name": "#%%\n"
    }
   }
  }
 ],
 "metadata": {
  "kernelspec": {
   "display_name": "Python 3",
   "language": "python",
   "name": "python3"
  },
  "language_info": {
   "codemirror_mode": {
    "name": "ipython",
    "version": 2
   },
   "file_extension": ".py",
   "mimetype": "text/x-python",
   "name": "python",
   "nbconvert_exporter": "python",
   "pygments_lexer": "ipython2",
   "version": "2.7.6"
  }
 },
 "nbformat": 4,
 "nbformat_minor": 0
}