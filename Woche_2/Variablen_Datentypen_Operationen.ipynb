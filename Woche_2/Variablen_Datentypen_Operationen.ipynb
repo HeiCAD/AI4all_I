{
 "cells": [
  {
   "cell_type": "markdown",
   "source": [
    "# Variablen, Datentypen und Operationen"
   ],
   "metadata": {
    "collapsed": false,
    "pycharm": {
     "name": "#%% md\n"
    }
   }
  },
  {
   "cell_type": "markdown",
   "metadata": {
    "pycharm": {
     "name": "#%% md\n"
    }
   },
   "source": [
    "## Variablen\n",
    "\n",
    "Beim Programmieren wählt man sprechende Variablennamen, damit man die Bedeutung der Variablen beim Lesen des Programmcodes leichter verstehen kann.\n",
    "\n",
    "In Python können die Variablennamen aus Buchstaben, Zahlen, Sonderzeichen, mathematischen Symbolen, Umlauten und nichtlateinischen Buchstaben bestehen. Einzige Einschränkung: am Anfang des Variablennamens darf keine Zahl stehen.\n",
    "\n",
    "In der Praxis haben sich Variablennamen etabliert, die ausschließlich aus kleinen Buchstaben, Zahlen und Unterstrichen bestehen.\n",
    "\n",
    "Aufgepasst: In Pyhton wird zwischen Groß- und Kleinschreibung unterschieden, d.h. variable und Variable sind zwei verschiedene Variablen."
   ]
  },
  {
   "cell_type": "markdown",
   "metadata": {
    "pycharm": {
     "name": "#%% md\n"
    }
   },
   "source": [
    "###  Variablenzuweisung\n",
    "\n",
    "In Python werden die Werte den Variablen mit einem Gleichheitszeichen (\"=\") zugewiesen. Die Variablenwerte können zum Beispiel Zahlen, Buchstaben, Wörter, Sätze oder auch Bilder sein."
   ]
  },
  {
   "cell_type": "code",
   "execution_count": null,
   "metadata": {
    "pycharm": {
     "name": "#%%\n"
    }
   },
   "outputs": [],
   "source": [
    "# In Python werden Texte in Anführungszeichen geschrieben\n",
    "text = \"Taschenrechner\"\n",
    "\n",
    "zahl = 100"
   ]
  },
  {
   "cell_type": "markdown",
   "metadata": {
    "pycharm": {
     "name": "#%% md\n"
    }
   },
   "source": [
    "Um den Wert einer Variable in Python ausgeben zu lassen, kann man den _print()_-Befehl verwenden."
   ]
  },
  {
   "cell_type": "code",
   "execution_count": null,
   "metadata": {
    "pycharm": {
     "name": "#%%\n"
    }
   },
   "outputs": [],
   "source": [
    "print(text)\n",
    "\n",
    "print(zahl)"
   ]
  },
  {
   "cell_type": "markdown",
   "metadata": {
    "pycharm": {
     "name": "#%% md\n"
    }
   },
   "source": [
    "Achtung: Setze den Variablennamen nicht in die Anführungszeichen innerhalb des _print()_-Befehls, sonst wird der Variablenname und nicht deren Wert ausgegeben."
   ]
  },
  {
   "cell_type": "code",
   "execution_count": null,
   "metadata": {
    "pycharm": {
     "name": "#%%\n"
    }
   },
   "outputs": [],
   "source": [
    "print(\"zahl\")"
   ]
  },
  {
   "cell_type": "markdown",
   "metadata": {
    "pycharm": {
     "name": "#%% md\n"
    }
   },
   "source": [
    "Wenn man Werte mehrerer Variablen im Programm auf einmal ausgibt, ist es praktisch in der Ausgabe vor jedem Variablenwert den entsprechenden Variablennamen mit auszugeben."
   ]
  },
  {
   "cell_type": "code",
   "execution_count": null,
   "metadata": {
    "pycharm": {
     "name": "#%%\n"
    }
   },
   "outputs": [],
   "source": [
    "print(\"Wert der Variablen text: \", text)\n",
    "\n",
    "print(\"Wert der Variablen zahl: \", zahl)"
   ]
  },
  {
   "cell_type": "markdown",
   "metadata": {
    "pycharm": {
     "name": "#%% md\n"
    }
   },
   "source": [
    "## Datentypen\n",
    "\n",
    "Neben den Variablenwerten kann man mit dem _print()_-Befehl auch die Variablentypen ausgeben. Dafür wird der Befehl _type()_ verwendet."
   ]
  },
  {
   "cell_type": "code",
   "execution_count": null,
   "metadata": {
    "pycharm": {
     "name": "#%%\n"
    }
   },
   "outputs": [],
   "source": [
    "print(\"Datentyp der Variable zahl: \", type(zahl))"
   ]
  },
  {
   "cell_type": "markdown",
   "metadata": {
    "pycharm": {
     "name": "#%% md\n"
    }
   },
   "source": [
    "\"int\" ist eine Abkürzung für \"integer\" und bedeutet \"ganze Zahl\". Also ist der Wert der Variable zahl eine ganze Zahl."
   ]
  },
  {
   "cell_type": "markdown",
   "metadata": {
    "pycharm": {
     "name": "#%% md\n"
    }
   },
   "source": [
    "Neben der ganzen Zahl gibt es noch Dezimal- oder Fließkommazahl als Datentyp in Python. Dieser wird als \"float\" abgekürzt und bedeutet \"floating-point number\"."
   ]
  },
  {
   "cell_type": "code",
   "execution_count": null,
   "metadata": {
    "pycharm": {
     "name": "#%%\n"
    }
   },
   "outputs": [],
   "source": [
    "zahl_2 = 2.5\n",
    "\n",
    "print(\"Datentyp der Variable zahl_2: \", type(zahl_2))"
   ]
  },
  {
   "cell_type": "markdown",
   "metadata": {
    "pycharm": {
     "name": "#%% md\n"
    }
   },
   "source": [
    "Ein weiterer gängiger Datentyp in Python ist String bzw. Zeichenkette. Zeichenketten werden mit \"str\" abgekürzt und bestehen aus einer Abfolge von Buchstaben, Ziffern, Sonderzeichen und können sich zu Wörtern, Sätzen und ganzen Texten zusammensetzen."
   ]
  },
  {
   "cell_type": "code",
   "execution_count": null,
   "metadata": {
    "pycharm": {
     "name": "#%%\n"
    }
   },
   "outputs": [],
   "source": [
    "print(\"Datentyp der Variable text: \", type(text))"
   ]
  },
  {
   "cell_type": "markdown",
   "metadata": {
    "pycharm": {
     "name": "#%% md\n"
    }
   },
   "source": [
    "Zeichenketten können aus Ziffern bestehen, auch eine einzelne Ziffer kann als eine Zeichenkette bzw. ein String gespeichert werden. Dafür muss die Zahl in Anführungszeichen gesetzt werden."
   ]
  },
  {
   "cell_type": "code",
   "execution_count": null,
   "metadata": {
    "pycharm": {
     "name": "#%%\n"
    }
   },
   "outputs": [],
   "source": [
    "text_2 = \"100\"\n",
    "\n",
    "print(\"Wert der Variablen text_2: \", text_2)\n",
    "\n",
    "print(\"Datentyp der Variable text_2: \", type(text_2))"
   ]
  },
  {
   "cell_type": "markdown",
   "metadata": {
    "pycharm": {
     "name": "#%% md\n"
    }
   },
   "source": [
    "### Datentypumwandlung\n",
    "\n",
    "Man kann im Programmverlauf den Datentyp eines Variablenwertes explizit ändern. Dazu bietet Python den Befehl _int()_ für die Integerumwandlung, den Befehl _float()_ für die Fließkommazahlumwandlung und den Befehl _str()_ für die Umwandlung in eine Zeichenkette an.\n",
    "\n",
    "Beachte: Bei der Umwandlung einer Fließkommazahl in eine ganze Zahl werden die Nachkommastellen abgeschnitten, selbst wenn diese ungleich Null sind."
   ]
  },
  {
   "cell_type": "code",
   "execution_count": null,
   "metadata": {
    "pycharm": {
     "name": "#%%\n"
    }
   },
   "outputs": [],
   "source": [
    "# Die String-Variable text_2 wird in eine Fließkommazahl umgewandelt.\n",
    "text_2 = float(text_2)\n",
    "\n",
    "# Gebe den Datentyp und den Variablenwert aus.\n",
    "print(\"Datentyp der Variable text_2: \", type(text_2))\n",
    "print(\"Wert der Variablen text_2: \", text_2)"
   ]
  },
  {
   "cell_type": "code",
   "execution_count": null,
   "outputs": [],
   "source": [
    "# Die Float-Variable text_2 wird in eine Ganzzahl umgewandelt.\n",
    "text_2 = int(text_2)\n",
    "\n",
    "# Gebe den Datentyp und den Variablenwert aus.\n",
    "print(\"Datentyp der Variable text_2: \", type(text_2))\n",
    "print(\"Wert der Variablen text_2: \", text_2)"
   ],
   "metadata": {
    "collapsed": false,
    "pycharm": {
     "name": "#%%\n"
    }
   }
  },
  {
   "cell_type": "code",
   "execution_count": null,
   "metadata": {
    "pycharm": {
     "name": "#%%\n"
    }
   },
   "outputs": [],
   "source": [
    "# Die Integer-Variable text_2 wird in eine Zeichenkette umgewandelt.\n",
    "text_2 = str(text_2)\n",
    "\n",
    "# Gebe den Datentyp und den Variablenwert aus.\n",
    "print(\"Datentyp der Variable text_2: \", type(text_2))\n",
    "print(\"Wert der Variablen text_2: \", text_2)"
   ]
  },
  {
   "cell_type": "markdown",
   "metadata": {
    "pycharm": {
     "name": "#%% md\n"
    }
   },
   "source": [
    "## Operationen\n",
    "\n",
    "Die Werte der Variablen können sich im Laufe des Programms durch verschiedene Operationen ändern. Dies kann zum Beispiel eine Neuzuweisung sein."
   ]
  },
  {
   "cell_type": "code",
   "execution_count": null,
   "metadata": {
    "pycharm": {
     "name": "#%%\n"
    }
   },
   "outputs": [],
   "source": [
    "zahl = 10\n",
    "\n",
    "print(\"Wert der Variablen zahl: \", zahl)"
   ]
  },
  {
   "cell_type": "markdown",
   "metadata": {
    "pycharm": {
     "name": "#%% md\n"
    }
   },
   "source": [
    "### Rechenoperationen auf Zahlen\n",
    "\n",
    "Die Variablenwerte können sich auch durch Rechenoperationen ändern. Python verfügt über eine Vielzahl von arithmetischen Operationen."
   ]
  },
  {
   "cell_type": "markdown",
   "metadata": {
    "pycharm": {
     "name": "#%% md\n"
    }
   },
   "source": [
    "Der _Additionsoperator_ berechnet die Summe von Zahlen. Dieser wird in Python mit einem \"+\"-Zeichen dargestellt."
   ]
  },
  {
   "cell_type": "code",
   "execution_count": null,
   "metadata": {
    "pycharm": {
     "name": "#%%\n"
    }
   },
   "outputs": [],
   "source": [
    "# Weise der Variable zahl die Summe zweier Zahlen zu.\n",
    "zahl = 10 + 10\n",
    "\n",
    "print(\"Wert der Variablen zahl: \", zahl)"
   ]
  },
  {
   "cell_type": "markdown",
   "metadata": {
    "pycharm": {
     "name": "#%% md\n"
    }
   },
   "source": [
    "Man kann zu dem Wert einer Variablen eine Zahl hinzuaddieren. Das geht, indem man einen Operanden durch den Namen der entsprechenden Variablen ersetzt."
   ]
  },
  {
   "cell_type": "code",
   "execution_count": null,
   "metadata": {
    "pycharm": {
     "name": "#%%\n"
    }
   },
   "outputs": [],
   "source": [
    "# Addiere 10 zu dem Wert der Variablen zahl und\n",
    "# speichere das Ergebnis in zahl ab.\n",
    "zahl = zahl + 10\n",
    "\n",
    "print(\"Wert der Variablen zahl: \", zahl)"
   ]
  },
  {
   "cell_type": "markdown",
   "metadata": {
    "pycharm": {
     "name": "#%% md\n"
    }
   },
   "source": [
    "Der _Subtraktionsoperator_ wird in Python mit einem \"-\"-Zeichen dargestellt."
   ]
  },
  {
   "cell_type": "code",
   "execution_count": null,
   "metadata": {
    "pycharm": {
     "name": "#%%\n"
    }
   },
   "outputs": [],
   "source": [
    "# Subtrahiere 10 von dem Wert der Variablen zahl und\n",
    "# speichere das Ergebnis in zahl ab.\n",
    "zahl = zahl - 10\n",
    "\n",
    "print(\"Wert der Variablen zahl: \", zahl)"
   ]
  },
  {
   "cell_type": "markdown",
   "metadata": {
    "pycharm": {
     "name": "#%% md\n"
    }
   },
   "source": [
    "Der _Multiplikationsoperator_ wird in Python mit einem Sternchen (\"*\") dargestellt."
   ]
  },
  {
   "cell_type": "code",
   "execution_count": null,
   "metadata": {
    "pycharm": {
     "name": "#%%\n"
    }
   },
   "outputs": [],
   "source": [
    "# Multipliziere den Wert der Variable zahl mit 5 und\n",
    "# speichere das Ergebnis in der Variable zahl ab.\n",
    "zahl = zahl * 5\n",
    "\n",
    "print(\"Wert der Variablen zahl: \", zahl)"
   ]
  },
  {
   "cell_type": "markdown",
   "metadata": {
    "pycharm": {
     "name": "#%% md\n"
    }
   },
   "source": [
    "Der _Divisionsoperator_ wird mit einem Schrägstrich (\"/\") in Python dargestellt."
   ]
  },
  {
   "cell_type": "code",
   "execution_count": null,
   "metadata": {
    "pycharm": {
     "name": "#%%\n"
    }
   },
   "outputs": [],
   "source": [
    "# Teile den Wert der Variable zahl durch 2 und\n",
    "# speichere das Ergebnis in einer neuen Variable zahl_2 ab.\n",
    "zahl_2 = zahl / 2\n",
    "\n",
    "print(\"Wert der Variablen zahl: \", zahl)\n",
    "print(\"Wert der Variablen zahl_2: \", zahl_2)"
   ]
  },
  {
   "cell_type": "markdown",
   "metadata": {
    "pycharm": {
     "name": "#%% md\n"
    }
   },
   "source": [
    "In Python ist das Ergebnis einer Division immer eine Dezimalzahl, selbst wenn im Ergebnis eigentlich eine ganze Zahl rauskommt. Wenn man möchte, dass im Ergebnis eine ganze Zahl steht, muss man entweder zusätzlich eine Typumwandlung oder eine Ganzzahldivision statt einfacher Division durchführen.\n",
    "\n",
    "In Python gibt es einen eigenen Operator für die _Ganzzahldivision_. Dieser wird mit einem Doppelschrägstrich (\"//\") dargestellt."
   ]
  },
  {
   "cell_type": "code",
   "execution_count": null,
   "metadata": {
    "pycharm": {
     "name": "#%%\n"
    }
   },
   "outputs": [],
   "source": [
    "zahl_2 = zahl // 8\n",
    "\n",
    "print(\"Wert der Variablen zahl_2: \", zahl_2)"
   ]
  },
  {
   "cell_type": "markdown",
   "metadata": {
    "pycharm": {
     "name": "#%% md\n"
    }
   },
   "source": [
    "Möchte man den Rest einer Ganzzahldivision ausgeben lassen, muss man entweder diesen berechnen oder den _Modulo-Operator_ benutzen, der in Python mit dem Prozentzeichen (\"%\") dargestellt wird."
   ]
  },
  {
   "cell_type": "code",
   "execution_count": null,
   "metadata": {
    "pycharm": {
     "name": "#%%\n"
    }
   },
   "outputs": [],
   "source": [
    "# Berechne den Rest der Ganzzahldivision.\n",
    "rest = zahl - (zahl//8)*8\n",
    "print(\"Wert der Variablen rest: \", rest)\n",
    "\n",
    "# Berechne den Rest mit dem Modulo-Operator\n",
    "rest = zahl % 8\n",
    "print(\"Wert der Variablen rest: \", rest)"
   ]
  },
  {
   "cell_type": "markdown",
   "source": [
    "### Operationen auf Zeichenketten\n",
    "\n",
    "Neben den arithmetischen Operatoren verfügt Python über eine Vielzahl von Operatoren auf Zeichenketten. Dabei haben einige Operatoren die gleiche Darstellung, produzieren aber unterschiedliche Ergebnisse auf Zahlen und Zeichenketten. Im Folgenden werden die wichtigsten aufgelistet."
   ],
   "metadata": {
    "collapsed": false,
    "pycharm": {
     "name": "#%% md\n"
    }
   }
  },
  {
   "cell_type": "markdown",
   "source": [
    "Der \"+\"-Operator heißt auf Zeichenketten _Verkettungsoperator_ und bewirkt die Hintereinanderschaltung bzw. Verkettung von Zeichenketten."
   ],
   "metadata": {
    "collapsed": false,
    "pycharm": {
     "name": "#%% md\n"
    }
   }
  },
  {
   "cell_type": "code",
   "execution_count": null,
   "outputs": [],
   "source": [
    "text_1 = \"Hallo\"\n",
    "text_2 = \"zusammen\"\n",
    "text_3 = text_1 + text_2\n",
    "print(text_3)"
   ],
   "metadata": {
    "collapsed": false,
    "pycharm": {
     "name": "#%%\n"
    }
   }
  },
  {
   "cell_type": "markdown",
   "source": [
    "Wenn man zwischen den Worten ein Leerzeichen und am Ende ein Ausrufezeichen schreiben möchte, kann man diese bei der Verknüpfung zwischen den beiden Variablen bzw. am Ende schalten."
   ],
   "metadata": {
    "collapsed": false,
    "pycharm": {
     "name": "#%% md\n"
    }
   }
  },
  {
   "cell_type": "code",
   "execution_count": null,
   "outputs": [],
   "source": [
    "# Hier überschreiben wir den Inhalt der Variable text_3.\n",
    "text_3 = text_1 + \" \" + text_2 + \"!\"\n",
    "print(text_3)"
   ],
   "metadata": {
    "collapsed": false,
    "pycharm": {
     "name": "#%%\n"
    }
   }
  },
  {
   "cell_type": "markdown",
   "source": [
    "Die Zahlen, die als Zeichenketten gespeichert werden, werden wie Zeichenketten miteinander verknüpft. Also werden diese nicht addiert, sondern verkettet."
   ],
   "metadata": {
    "collapsed": false,
    "pycharm": {
     "name": "#%% md\n"
    }
   }
  },
  {
   "cell_type": "code",
   "execution_count": null,
   "outputs": [],
   "source": [
    "text_4 = \"20\"\n",
    "text_5 = \"23\"\n",
    "text_6 = text_4 + text_5\n",
    "print(text_6)"
   ],
   "metadata": {
    "collapsed": false,
    "pycharm": {
     "name": "#%%\n"
    }
   }
  },
  {
   "cell_type": "markdown",
   "source": [
    "Bei der Verknüpfung von einer Zeichenkette mit einer Zahl durch den \"+\"-Operator kommt es wegen des Datentypkonflikts zu einer Fehlermeldung."
   ],
   "metadata": {
    "collapsed": false,
    "pycharm": {
     "name": "#%% md\n"
    }
   }
  },
  {
   "cell_type": "code",
   "execution_count": null,
   "outputs": [],
   "source": [
    "# text_x = text_6 + 1\n",
    "# print(text_x)"
   ],
   "metadata": {
    "collapsed": false,
    "pycharm": {
     "name": "#%%\n"
    }
   }
  },
  {
   "cell_type": "markdown",
   "source": [
    "Auf den Zeichenketten hat der \"*\"-Operator auch einen anderen Namen, nämlich _Wiederholungsoperator_. Mit seiner Hilfe kann die gleiche Zeichenkette mehrere Male hintereinander geschaltet werden."
   ],
   "metadata": {
    "collapsed": false,
    "pycharm": {
     "name": "#%% md\n"
    }
   }
  },
  {
   "cell_type": "code",
   "execution_count": null,
   "outputs": [],
   "source": [
    "# Verkette \"hallo zusammen\" zweimal\n",
    "text_7 = text_3 * 2\n",
    "print(text_7)"
   ],
   "metadata": {
    "collapsed": false,
    "pycharm": {
     "name": "#%%\n"
    }
   }
  },
  {
   "cell_type": "markdown",
   "source": [
    "Wenn man ein Leerzeichen zwischen den einzelnen Zeichenketten bei der Wiederholung einbauen möchte, muss man zuerst hinter der Zeichenkette ein Leerzeichen schalten, erst dann den Wiederholungsoperator anwenden."
   ],
   "metadata": {
    "collapsed": false,
    "pycharm": {
     "name": "#%% md\n"
    }
   }
  },
  {
   "cell_type": "code",
   "execution_count": null,
   "outputs": [],
   "source": [
    "# Hier überschreiben wir den Inhalt der Variable text_7.\n",
    "text_7 = (text_3 + \" \") * 2\n",
    "print(text_7)"
   ],
   "metadata": {
    "collapsed": false,
    "pycharm": {
     "name": "#%%\n"
    }
   }
  },
  {
   "cell_type": "markdown",
   "source": [
    "Der Wiederholungsoperator verknüpft Zahlen, die als Zeichenketten gespeichert werden, wie gewöhnliche Zeichenketten."
   ],
   "metadata": {
    "collapsed": false,
    "pycharm": {
     "name": "#%% md\n"
    }
   }
  },
  {
   "cell_type": "code",
   "execution_count": null,
   "outputs": [],
   "source": [
    "# Verkette \"2023\" dreimal\n",
    "text_8 = text_6 * 3\n",
    "print(text_8)"
   ],
   "metadata": {
    "collapsed": false,
    "pycharm": {
     "name": "#%%\n"
    }
   }
  }
 ],
 "metadata": {
  "kernelspec": {
   "display_name": "Python 3 (ipykernel)",
   "language": "python",
   "name": "python3"
  },
  "language_info": {
   "codemirror_mode": {
    "name": "ipython",
    "version": 3
   },
   "file_extension": ".py",
   "mimetype": "text/x-python",
   "name": "python",
   "nbconvert_exporter": "python",
   "pygments_lexer": "ipython3",
   "version": "3.10.6"
  }
 },
 "nbformat": 4,
 "nbformat_minor": 1
}