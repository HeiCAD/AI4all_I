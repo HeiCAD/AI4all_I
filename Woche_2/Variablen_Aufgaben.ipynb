{
 "cells": [
  {
   "cell_type": "markdown",
   "metadata": {
    "pycharm": {
     "name": "#%% md\n"
    }
   },
   "source": [
    "### Aufgabe (_Variablenzuweisung_)\n",
    "Erstelle eine Variable namens _kurs\\_bezeichnung_ und weise ihr den Wert _AI4all\\_I_ zu. Gebe den Wert der Variablen _kurs\\_bezeichnung_ mit der _print()_-Anweisung aus."
   ]
  },
  {
   "cell_type": "code",
   "execution_count": null,
   "metadata": {
    "pycharm": {
     "name": "#%%\n"
    }
   },
   "outputs": [],
   "source": [
    "# Hier kommt deine Lösung\n",
    "\n"
   ]
  },
  {
   "cell_type": "markdown",
   "metadata": {
    "pycharm": {
     "name": "#%% md\n"
    }
   },
   "source": [
    "### Aufgabe (_Datentypen_)\n",
    "Gebe den Datentyp der Variablen _zahl_ mit der _print()_-Anweisung aus."
   ]
  },
  {
   "cell_type": "code",
   "execution_count": null,
   "metadata": {
    "pycharm": {
     "name": "#%%\n"
    }
   },
   "outputs": [],
   "source": [
    "zahl = 5.5\n",
    "\n",
    "# Hier kommt deine Lösung\n"
   ]
  },
  {
   "cell_type": "markdown",
   "metadata": {
    "pycharm": {
     "name": "#%% md\n"
    }
   },
   "source": [
    "### Aufgabe (_Datentypumwandlung_)\n",
    "Wandle die _String_-Variable _jahr_ in eine Ganzzahl um und gebe den Datentyp ihres Wertes mit der _print()_-Anweisung aus."
   ]
  },
  {
   "cell_type": "code",
   "execution_count": null,
   "metadata": {
    "pycharm": {
     "name": "#%%\n"
    }
   },
   "outputs": [],
   "source": [
    "jahr = \"2023\"\n",
    "\n",
    "# Hier kommt deine Lösung\n",
    "\n"
   ]
  },
  {
   "cell_type": "markdown",
   "metadata": {
    "pycharm": {
     "name": "#%% md\n"
    }
   },
   "source": [
    "### Aufgabe (_Rechenoperationen auf Zahlen_)\n",
    "Addiere 50 zu dem Wert der Variablen _kontostand_ und speichere das Ergebnis in derselben Variable ab."
   ]
  },
  {
   "cell_type": "code",
   "execution_count": null,
   "metadata": {
    "pycharm": {
     "name": "#%%\n"
    }
   },
   "outputs": [],
   "source": [
    "kontostand = 100\n",
    "\n",
    "# Hier kommt deine Lösung\n",
    "\n",
    "\n",
    "print(\"Wert der Variablen kontostand: \", kontostand)"
   ]
  },
  {
   "cell_type": "markdown",
   "metadata": {
    "pycharm": {
     "name": "#%% md\n"
    }
   },
   "source": [
    "### Aufgabe (_Rechenoperationen auf Zahlen_)\n",
    "Dividiere den Wert der Variablen _kaufpreis_ durch 5 und speichere das Ergebnis in derselben Variable ab."
   ]
  },
  {
   "cell_type": "code",
   "execution_count": null,
   "metadata": {
    "pycharm": {
     "name": "#%%\n"
    }
   },
   "outputs": [],
   "source": [
    "kaufpreis = 2000\n",
    "\n",
    "# Hier kommt deine Lösung\n",
    "\n",
    "\n",
    "print(\"Wert der Variablen kaufpreis: \", kaufpreis)"
   ]
  },
  {
   "cell_type": "markdown",
   "metadata": {
    "pycharm": {
     "name": "#%% md\n"
    }
   },
   "source": [
    "### Aufgabe (_Operationen auf Zeichenketten_)\n",
    "Verknüpfe die Variablen _s\\_code_ und _o\\_code_ so miteinander, dass der Wert der Variablen _sos\\_code_ \"...\\_ \\_ \\_...\" ergibt. Gebe den Wert der Variablen _sos\\_code_ mit dem _print()_-Befehl aus."
   ]
  },
  {
   "cell_type": "code",
   "execution_count": null,
   "metadata": {
    "pycharm": {
     "name": "#%%\n"
    }
   },
   "outputs": [],
   "source": [
    "s_code = \"...\"\n",
    "o_code = \"_ _ _\"\n",
    "\n",
    "# Hier kommt deine Lösung\n",
    "\n",
    "\n"
   ]
  }
 ],
 "metadata": {
  "kernelspec": {
   "display_name": "Python 3 (ipykernel)",
   "language": "python",
   "name": "python3"
  },
  "language_info": {
   "codemirror_mode": {
    "name": "ipython",
    "version": 3
   },
   "file_extension": ".py",
   "mimetype": "text/x-python",
   "name": "python",
   "nbconvert_exporter": "python",
   "pygments_lexer": "ipython3",
   "version": "3.10.6"
  }
 },
 "nbformat": 4,
 "nbformat_minor": 1
}