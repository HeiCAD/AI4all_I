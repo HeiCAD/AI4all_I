{
 "cells": [
  {
   "metadata": {},
   "cell_type": "markdown",
   "source": [
    "### Aufgabe _(Training eines neuronalen Netzes)_\n",
    "\n",
    "In dieser Aufgabe soll ein neuronales Netz zur Vorhersage der Pinguinart trainiert werden. Dafür wurde der passende Datensatz bereits geladen, vorverarbeitet, normalisiert und in eine Trainings- und eine Testmenge aufgeteilt. Des Weiteren wurde ein sequentielles Feed-Forward-Netz mit vier Neuronen in der Eingabeschicht, 64 Neuronen in der verborgenen vollständig verbundenen Schicht und drei Neuronen in der Ausgabeschicht implementiert und konfiguriert. Weitere Details kannst du dem Programmcode entnehmen.\n",
    "\n",
    "Deine Aufgabe besteht darin, das neuronale Netz über 100 Epochen mit der Batch Size von 32 auf den Trainingsdaten zu trainieren. Dabei sollen die Werte für die Accuracy und die Verlustfunktion sowohl für die Trainingsdaten als auch für die Validierungsdaten (hier _X_test_ und _y_test_) ausgegeben werden. Außerdem soll die Trainingshistorie in der Variablen _history_ gespeichert werden.\n"
   ],
   "id": "12c9b755ca3be732"
  },
  {
   "metadata": {},
   "cell_type": "code",
   "source": [
    "import seaborn as sns\n",
    "from sklearn.model_selection import train_test_split\n",
    "from sklearn import preprocessing\n",
    "import numpy as np\n",
    "import pandas as pd\n",
    "import keras"
   ],
   "id": "73681251eb630afe",
   "outputs": [],
   "execution_count": null
  },
  {
   "metadata": {},
   "cell_type": "code",
   "source": [
    "# Lade den Palmer Archipelago (Antarctica) Penguin Datensatz\n",
    "penguins = sns.load_dataset(\"penguins\")\n",
    "\n",
    "# Speichere das dritte (Schnabellänge), das vierte (Schnabelhöhe),\n",
    "# das fünfte (Flossenlänge) und das sechste (Körpermasse)\n",
    "# Merkmal in der Datenmatrix\n",
    "X_raw = penguins[['bill_length_mm', 'bill_depth_mm', 'flipper_length_mm', 'body_mass_g']]\n",
    "\n",
    "# Speichere das erste Merkmal als Zielmerkmal\n",
    "y_raw = penguins[['species']]\n",
    "\n",
    "# Lösche alle Zeilen aus der Datenmatrix, die\n",
    "# fehlende Wert enthalten\n",
    "X = X_raw[~np.isnan(X_raw).any(axis=1)]\n",
    "y = y_raw[~np.isnan(X_raw).any(axis=1)]\n",
    "\n",
    "# Umwandlung kategorischer Merkmale nach der One-Hot-Methode\n",
    "y = pd.get_dummies(y, columns=['species'], dtype=float)\n",
    "\n",
    "# Normalisiere die Merkmalswerte auf den Bereich [0,1]\n",
    "X_normalized = preprocessing.minmax_scale(X)\n",
    "\n",
    "# Teile den Datensatz in die Trainings- und die Testmenge auf\n",
    "X_train, X_test, y_train, y_test = train_test_split(\n",
    "    X_normalized, y, test_size=0.2, random_state=61)"
   ],
   "id": "1c8b636eb0ec426c",
   "outputs": [],
   "execution_count": null
  },
  {
   "metadata": {},
   "cell_type": "code",
   "source": [
    "# Aufbau eines neuronalen Netzes\n",
    "model = keras.Sequential()\n",
    "model.add(keras.Input(shape=(X_train.shape[1],)))\n",
    "model.add(keras.layers.Dense(units=64, activation=\"relu\"))\n",
    "model.add(keras.layers.Dense(units=3, activation=\"softmax\"))\n",
    "\n",
    "model.summary()"
   ],
   "id": "274ddc3a7b887c4c",
   "outputs": [],
   "execution_count": null
  },
  {
   "metadata": {},
   "cell_type": "code",
   "source": [
    "# Konfiguriere das Modell\n",
    "model.compile(loss='categorical_crossentropy',\n",
    "             optimizer=keras.optimizers.Adamax(learning_rate=0.001),\n",
    "             metrics=['accuracy'])"
   ],
   "id": "f2a3b11ad3bb7be7",
   "outputs": [],
   "execution_count": null
  },
  {
   "metadata": {},
   "cell_type": "code",
   "source": [
    "# Hier findet das eigentliche Training des Modells statt\n",
    "\n",
    "# Hier kommt deine Lösung"
   ],
   "id": "b2781457da9827f4",
   "outputs": [],
   "execution_count": null
  },
  {
   "metadata": {},
   "cell_type": "code",
   "source": [
    "# Zeige die Ergebnisse für Loss und Accuracy pro Epoche in einem Graphen dar\n",
    "# fig = pd.DataFrame(history.history).plot(figsize=(8, 5))"
   ],
   "id": "f0846bda0e426d97",
   "outputs": [],
   "execution_count": null
  },
  {
   "metadata": {},
   "cell_type": "markdown",
   "source": [
    "### Aufgabe _(Berechnung der Vorhersagen mit einem neuronalen Netz)_\n",
    "\n",
    "Schreibe eine Anweisung, mit deren Hilfe die Vorhersagen für die ersten fünf Beobachtungen des Testdatensatzes mit dem trainierten Modell erstellt und ausgegeben werden."
   ],
   "id": "351a824285337416"
  },
  {
   "metadata": {},
   "cell_type": "code",
   "source": [
    "# Erstelle eine Vorhersage für die ersten fünf Beobachtungen des Testdatensatzes\n",
    "# mit dem trainierten Modell\n",
    "\n",
    "# Hier kommt deine Lösung\n",
    "\n"
   ],
   "id": "3b4b06ef939a0d5a",
   "outputs": [],
   "execution_count": null
  }
 ],
 "metadata": {
  "kernelspec": {
   "display_name": "Python 3",
   "language": "python",
   "name": "python3"
  },
  "language_info": {
   "codemirror_mode": {
    "name": "ipython",
    "version": 2
   },
   "file_extension": ".py",
   "mimetype": "text/x-python",
   "name": "python",
   "nbconvert_exporter": "python",
   "pygments_lexer": "ipython2",
   "version": "2.7.6"
  }
 },
 "nbformat": 4,
 "nbformat_minor": 5
}
