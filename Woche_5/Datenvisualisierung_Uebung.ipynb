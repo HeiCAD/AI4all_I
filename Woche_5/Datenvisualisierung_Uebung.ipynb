{
 "cells": [
  {
   "cell_type": "markdown",
   "source": [
    "# Datenvisualisierung - Spielwiese\n",
    "\n",
    "In diesem Notebook kannst du mit plotly express herumspielen."
   ],
   "metadata": {
    "collapsed": false
   }
  },
  {
   "cell_type": "code",
   "execution_count": null,
   "outputs": [],
   "source": [
    "import plotly.express as px\n",
    "import plotly.graph_objects as go"
   ],
   "metadata": {
    "collapsed": false
   }
  },
  {
   "cell_type": "markdown",
   "source": [
    "Plotly bietet einige Datensätze an. Hier werden einige Datensätze schon mal geladen."
   ],
   "metadata": {
    "collapsed": false
   }
  },
  {
   "cell_type": "code",
   "execution_count": null,
   "outputs": [],
   "source": [
    "gapminder = px.data.gapminder()\n",
    "tips = px.data.tips()\n",
    "stocks = px.data.stocks()\n",
    "\n",
    "#Hier kannst du nach Lust und Laune Diagramme erstellen\n"
   ],
   "metadata": {
    "collapsed": false
   }
  },
  {
   "cell_type": "code",
   "execution_count": null,
   "outputs": [],
   "source": [
    "#falls gewünscht, kannst du hier deine Diagramme abspeichern\n",
    "\n",
    "#fig.write_image(\"fig/dateiname\")"
   ],
   "metadata": {
    "collapsed": false
   }
  },
  {
   "cell_type": "markdown",
   "source": [
    "# Übungsaufgaben\n",
    "\n",
    "Die Lösungen zu diesen Aufgaben werden später im Quiz abgefragt!\n",
    "\n",
    "## Liniendiagramme\n",
    "In der Vorlesung hast du gesehen, dass man Diagramme auch kombinieren kann, und hast als Beispiel ein kombiniertes Diagramm mit Linienplot und dazugehörigem Scatterplot gesehen. Hier siehst du noch einmal den passenden Befehl dazu:"
   ],
   "metadata": {
    "collapsed": false
   }
  },
  {
   "cell_type": "code",
   "execution_count": null,
   "outputs": [],
   "source": [
    "dataDeFrPo = gapminder.query(\"country in ['Germany', 'France', 'Poland']\")\n",
    "fig1 = px.line(dataDeFrPo, x = 'year', y= 'lifeExp', color = 'country')\n",
    "fig2 = px.scatter(dataDeFrPo, x = 'year', y= 'lifeExp', color = 'country')\n",
    "fig = go.Figure(fig1.data + fig2.data)\n",
    "fig.show()"
   ],
   "metadata": {
    "collapsed": false
   }
  },
  {
   "cell_type": "markdown",
   "source": [
    "Allerdings kann in diesem speziellen Beispiel dasselbe auch nur mit dem line-Befehl erreicht werden. Finde im plotly-Handbuch einen Parameter des line-Befehls, der nicht nur ein Liniendiagramm anzeigt, sondern auch die Datenpunkte markiert. Hilfe findest du [hier](https://plotly.com/python-api-reference/generated/plotly.express.line.html) und [hier](https://plotly.com/python/line-charts/)."
   ],
   "metadata": {
    "collapsed": false
   }
  },
  {
   "cell_type": "code",
   "execution_count": null,
   "outputs": [],
   "source": [
    "# Ersetze die Fragezeichen im folgenden Befehl.\n",
    "px.line(dataDeFrPo, x = 'year', y= 'lifeExp', color = 'country', ? = ?)"
   ],
   "metadata": {
    "collapsed": false
   }
  },
  {
   "cell_type": "markdown",
   "source": [
    "Du hast ebenfalls bereits gelernt, dass Diagramme einen aussagekräftigen Titel brauchen. Wie kannst du für das folgende Liniendiagramm den Titel auf \"Entwicklung der Lebenserwartung\" setzen?"
   ],
   "metadata": {
    "collapsed": false
   }
  },
  {
   "cell_type": "code",
   "execution_count": null,
   "outputs": [],
   "source": [
    "# Ersetze die Fragezeichen im folgenden Befehl.\n",
    "px.line(dataDeFrPo, x = 'year', y= 'lifeExp', color = 'country', ? = ?)"
   ],
   "metadata": {
    "collapsed": false
   }
  },
  {
   "cell_type": "markdown",
   "source": [
    "Wie du siehst, wird bei plotly automatisch eine Legende miterstellt. Was aber, wenn uns der Legendentitel so nicht gefällt? Zum Glück gibt es nachträglich Möglichkeiten, Layoutoptionen zu ändern. Betrachte als Hilfe [diese Dokumentation](https://plotly.com/python/reference/layout/) und ändere den Legendentitel zu \"Land\"."
   ],
   "metadata": {
    "collapsed": false
   }
  },
  {
   "cell_type": "code",
   "execution_count": null,
   "outputs": [],
   "source": [
    "fig1.update_layout(? =  ?)\n",
    "fig1.show()"
   ],
   "metadata": {
    "collapsed": false
   }
  },
  {
   "cell_type": "markdown",
   "source": [
    "## Kuchendiagramme\n",
    "\n",
    "In der Vorlesung hast du gelernt, wie man Kuchendiagramme erstellt. Betrachte das folgende Kuchendiagramm."
   ],
   "metadata": {
    "collapsed": false
   }
  },
  {
   "cell_type": "code",
   "execution_count": null,
   "outputs": [],
   "source": [
    "fig3 = px.pie(tips, names = 'day', values = 'total_bill')\n",
    "fig3.show()"
   ],
   "metadata": {
    "collapsed": false
   }
  },
  {
   "cell_type": "markdown",
   "source": [
    "In dem Diagramm sind jetzt die Prozentzahlen innerhalb der Kuchenstücke angeordnet. Aber was, wenn wir sie außerhalb angezeigt bekommen wollen? Recherchiere den passenden Befehl mit Hilfe von [dieser Seite](https://plotly.com/python/reference/pie/)."
   ],
   "metadata": {
    "collapsed": false
   }
  },
  {
   "cell_type": "code",
   "execution_count": null,
   "outputs": [],
   "source": [
    "fig3.update_traces(? = ?)"
   ],
   "metadata": {
    "collapsed": false
   }
  },
  {
   "cell_type": "markdown",
   "source": [
    "Es gibt noch viele weitere Möglichkeiten zur individuellen Gestaltung, lies dich einfach durch Dokumentationen durch. Denke auch an die Tipps, worauf du bei einer guten Visualisierung achten solltest. Viel Erfolg!"
   ],
   "metadata": {
    "collapsed": false
   }
  }
 ],
 "metadata": {
  "kernelspec": {
   "name": "ai4all",
   "language": "python",
   "display_name": "ai4all"
  },
  "language_info": {
   "codemirror_mode": {
    "name": "ipython",
    "version": 2
   },
   "file_extension": ".py",
   "mimetype": "text/x-python",
   "name": "python",
   "nbconvert_exporter": "python",
   "pygments_lexer": "ipython2",
   "version": "2.7.6"
  }
 },
 "nbformat": 4,
 "nbformat_minor": 0
}
