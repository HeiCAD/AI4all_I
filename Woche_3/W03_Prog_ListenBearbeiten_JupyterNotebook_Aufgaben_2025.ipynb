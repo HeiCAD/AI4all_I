{
 "cells": [
  {
   "metadata": {},
   "cell_type": "markdown",
   "source": [
    "### Aufgabe (_Zugriff auf die Listenelemente_)\n",
    "Die Liste _fruits_ enthält fünf Elemente: _apple_, _pear_, _banana_, _grape_ und _peach_."
   ],
   "id": "187d5f0eef29d984"
  },
  {
   "metadata": {
    "ExecuteTime": {
     "end_time": "2025-03-12T21:32:54.660803Z",
     "start_time": "2025-03-12T21:32:54.658252Z"
    }
   },
   "cell_type": "code",
   "source": "fruits = [\"apple\", \"pear\", \"banana\", \"grape\", \"peach\"]",
   "id": "ea1d5acb816fa361",
   "outputs": [],
   "execution_count": 1
  },
  {
   "metadata": {},
   "cell_type": "markdown",
   "source": [
    "a) Auf welches Element wird jeweils durch die Anweisung\n",
    "   1. `fruits[2]`\n",
    "   2. `fruits[-1]`\n",
    "\n",
    "zugegriffen?"
   ],
   "id": "68fc987c426509dd"
  },
  {
   "metadata": {},
   "cell_type": "code",
   "source": [
    "# Hier kannst du deine Lösung ausprobieren\n",
    "\n",
    "\n"
   ],
   "id": "c81ca20054f20f6d",
   "outputs": [],
   "execution_count": null
  },
  {
   "metadata": {},
   "cell_type": "markdown",
   "source": "b) Schreibe eine Anweisung, um die Elemente _grape_ und _peach_ in der vorgegebenen Reihenfolge auszugeben.",
   "id": "b29c5e6710b2b003"
  },
  {
   "metadata": {},
   "cell_type": "code",
   "source": [
    "# Hier kommt deine Lösung\n",
    "\n",
    "\n"
   ],
   "id": "bc7834c63ca2e39",
   "outputs": [],
   "execution_count": null
  },
  {
   "metadata": {},
   "cell_type": "markdown",
   "source": [
    "### Aufgabe (_Listen von Listen_)\n",
    "Die unten definierte Liste _composers_ beinhaltet die Namen, die Geburtsjahre und die Geburtsstädte einiger Komponisten.\n",
    "\n",
    "Schreibe eine Anweisung, mit der du das Geburtsjahr von Antonio Lucio Vivaldi ausgeben kannst."
   ],
   "id": "541aca778851fc9b"
  },
  {
   "metadata": {},
   "cell_type": "code",
   "source": [
    "composers = [[\"Johannes Brahms\", 1833, \"Hamburg\"], [\"Wolfgang Amadeus Mozart\", 1756, \"Salzburg\"], [\"Antonio Lucio Vivaldi\", 1678, \"Venedig\"]]\n",
    "\n",
    "# Hier kommt deine Lösung\n",
    "\n"
   ],
   "id": "c671b5955ea38844",
   "outputs": [],
   "execution_count": null
  },
  {
   "metadata": {},
   "cell_type": "markdown",
   "source": [
    "### Aufgabe (_Elemente einer Liste ersetzen_)\n",
    "In die Liste _primes_ hat sich ein Fehler eingeschlichen. Schreibe eine Anweisung, mit der die Zahl _9_ durch die Primzahl _7_ ersetzt wird."
   ],
   "id": "80a75cc50aa751bd"
  },
  {
   "metadata": {},
   "cell_type": "code",
   "source": [
    "primes = [2, 3, 5, 9, 11]\n",
    "\n",
    "# Hier kommt deine Lösung\n",
    "\n",
    "\n",
    "print(primes)"
   ],
   "id": "d17bd7a5bc2bc9b9",
   "outputs": [],
   "execution_count": null
  }
 ],
 "metadata": {
  "kernelspec": {
   "display_name": "Python 3",
   "language": "python",
   "name": "python3"
  },
  "language_info": {
   "codemirror_mode": {
    "name": "ipython",
    "version": 2
   },
   "file_extension": ".py",
   "mimetype": "text/x-python",
   "name": "python",
   "nbconvert_exporter": "python",
   "pygments_lexer": "ipython2",
   "version": "2.7.6"
  }
 },
 "nbformat": 4,
 "nbformat_minor": 5
}
