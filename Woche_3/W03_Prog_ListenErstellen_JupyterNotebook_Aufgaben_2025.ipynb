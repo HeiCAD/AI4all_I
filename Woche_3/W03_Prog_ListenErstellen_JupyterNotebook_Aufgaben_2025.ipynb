{
 "cells": [
  {
   "metadata": {},
   "cell_type": "markdown",
   "source": [
    "### Aufgabe (_Erzeugung von Listen_)\n",
    "Schreibe eine Anweisung, mit deren Hilfe eine Liste namens _tools_ mit drei Elementen _hammer_, _pliers_ und _cutter_ erzeugt wird."
   ],
   "id": "868f4cff427a927e"
  },
  {
   "metadata": {},
   "cell_type": "code",
   "source": [
    "# Hier kommt deine Lösung\n",
    "\n",
    "\n",
    "# Mit dieser Anweisung wird die Liste tools ausgegeben\n",
    "print(tools)"
   ],
   "id": "8377266ddd1e9e65",
   "outputs": [],
   "execution_count": null
  },
  {
   "metadata": {},
   "cell_type": "markdown",
   "source": [
    "### Aufgabe (_Hinzufügen von Elementen zu einer Liste_)\n",
    "Die unten definierte Liste _colours_ enthält drei Farben _red_, _green_ und _blue_ als Elemente.\n",
    "\n",
    "Schreibe eine Anweisung, um das Element _yellow_ an das Ende der Liste einzufügen."
   ],
   "id": "a08557c4bb84487f"
  },
  {
   "metadata": {},
   "cell_type": "code",
   "source": [
    "colours = [\"red\", \"green\", \"blue\"]\n",
    "\n",
    "# Hier kommt deine Lösung\n",
    "\n",
    "\n",
    "# Mit dieser Anweisung wird die Liste colours ausgegeben\n",
    "print(colours)"
   ],
   "id": "ed1fd9ed3c70aa5d",
   "outputs": [],
   "execution_count": null
  }
 ],
 "metadata": {
  "kernelspec": {
   "display_name": "Python 3",
   "language": "python",
   "name": "python3"
  },
  "language_info": {
   "codemirror_mode": {
    "name": "ipython",
    "version": 2
   },
   "file_extension": ".py",
   "mimetype": "text/x-python",
   "name": "python",
   "nbconvert_exporter": "python",
   "pygments_lexer": "ipython2",
   "version": "2.7.6"
  }
 },
 "nbformat": 4,
 "nbformat_minor": 5
}
