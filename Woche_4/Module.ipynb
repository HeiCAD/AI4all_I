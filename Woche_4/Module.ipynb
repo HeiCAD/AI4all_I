{
 "cells": [
  {
   "cell_type": "markdown",
   "source": [
    "# Module und Funktionen am Beispiel von _NumPy_"
   ],
   "metadata": {
    "collapsed": false,
    "pycharm": {
     "name": "#%% md\n"
    }
   }
  },
  {
   "cell_type": "markdown",
   "source": [
    "## Was sind Module in Python?\n",
    "\n",
    "Für die meisten Programmiersprachen gibt es Werkzeugkisten mit Hilfsmitteln, die schon jemand fertig programmiert und zur freien Nutzung gestellt hat. Diese Werkzeugkisten werden oft als Packages oder Bibliotheken bezeichnet. Im Zusammenhang mit Python hat sich die Bezeichnung _Modul_ durchgesetzt. Die Module enthalten oft Hilfsprogramme, eigene Datenstrukturen und sogar neue Datentypen.\n",
    "\n",
    "Für Python wurden bereits sehr viele Module geschrieben. Deswegen kann man in Python große Projekte schnell umsetzen, ohne dafür selbst viel programmieren zu müssen. Besonders beliebt ist diese Programmiersprache, wenn es um die KI-Forschung geht. Inzwischen bietet Python die größte Auswahl an Modulen mit fertig programmierten Machine und Deep Learning Methoden.\n"
   ],
   "metadata": {
    "collapsed": false,
    "pycharm": {
     "name": "#%% md\n"
    }
   }
  },
  {
   "cell_type": "markdown",
   "source": [
    "## Importieren von Modulen\n",
    "\n",
    "Wir fangen mit dem Modul _NumPy_ an. <a href=\"https://numpy.org/\">NumPy</a> steht für _Numerical Python_. Es ist ein wichtiges Modul für wissenschaftliche Berechnungen.\n",
    "\n",
    "Um die Komponenten eines Moduls im Programm nutzen zu können, muss dieses zuerst mit dem Befehl _import_ importiert werden. Der Name des Moduls, also _numpy_, muss direkt nach der _import_-Anweisung folgen. Um einen Alias zu vergeben, was bei NumPy oft _np_ ist, fügt man noch _as np_ hinzu."
   ],
   "metadata": {
    "collapsed": false,
    "pycharm": {
     "name": "#%% md\n"
    }
   }
  },
  {
   "cell_type": "code",
   "execution_count": null,
   "outputs": [],
   "source": [
    "import numpy as np"
   ],
   "metadata": {
    "collapsed": false,
    "pycharm": {
     "name": "#%%\n"
    }
   }
  },
  {
   "cell_type": "markdown",
   "source": [
    "Jetzt ist NumPy in unserem Programm importiert und wir können seine Konstrukte und Werkzeuge nutzen. Eine detaillierte Beschreibung der Bestandteile des NumPy-Moduls findest du online in <a href=\"https://numpy.org/doc/stable/reference/index.html\">Reference Manual</a>."
   ],
   "metadata": {
    "collapsed": false,
    "pycharm": {
     "name": "#%% md\n"
    }
   }
  },
  {
   "cell_type": "markdown",
   "source": [
    "## NumPy-Datenstruktur _ndarray_\n",
    "\n",
    "NumPy bietet eine eigene Datenstruktur namens <a href=\"https://numpy.org/doc/stable/reference/arrays.ndarray.html\">_ndarray_</a> an. Dabei handelt es sich um ein mehrdimensionales Array, das einer verschachtelten Liste sehr ähnlich ist. Der wesentliche Unterschied besteht darin, dass alle Elemente innerhalb eines _ndarrays_ vom selben Datentyp sein müssen. Außerdem müssen alle Unterlisten jeder Hierarchieebene in einem _ndarray_ die gleiche Anzahl von Elementen enthalten.\n",
    "\n",
    "In einem _ndarray_ werden oft Werte einer Datentabelle gespeichert. Wenn diese numerische Werte unterschiedlichen Datentyps wie zum Beispiel ganze Zahlen und Fließkommazahlen enthält, dann empfiehlt es sich einen Datentyp mit einer höheren Präzision wie zum Beispiel _float_, also Fließkommazahl, für die Speicherung der Werte im _ndarray_ zu wählen."
   ],
   "metadata": {
    "collapsed": false,
    "pycharm": {
     "name": "#%% md\n"
    }
   }
  },
  {
   "cell_type": "markdown",
   "source": [
    "### Erzeugung von _ndarrays_\n",
    "\n",
    "Wenn bereits bekannt ist, welche Werte in einem _ndarray_ gespeichert werden sollen, wird das _ndarray_ wie folgt erzeugen: Zuerst wird der Namen des _ndarrays_ angegeben. Nach dem Zuweisungsoperator muss der Modulname, also _np_, angegeben werden, die Datenstruktur dieses Moduls genutzt wird. Nach dem Punkt wird die Bezeichnung der Funktion angegeben, mit deren Hilfe ein _ndarray_ erzeugt werden kann. Eine _Funktion_ in Programmiersprachen ist ein Hilfsprogramm, das für bestimmte Eingabewerte eine Ausgabe produziert. Die _ndarrays_ werden mit der NumPy-Funktion <a href=\"https://numpy.org/doc/stable/reference/generated/numpy.array.html#\">_array()_</a> erzeugt. In der runden Klammer der Funktion werden Werte des _ndarrays_ aufgeführt. Diese werden wie eine verschachtelte Liste angegeben. Nach dem Komma kann der Datentyp der Elemente spezifiziert werden. Diese Angabe ist aber optional. Wird der Datentyp nicht angegeben, wird dieser automatisch bestimmt."
   ],
   "metadata": {
    "collapsed": false,
    "pycharm": {
     "name": "#%% md\n"
    }
   }
  },
  {
   "cell_type": "code",
   "execution_count": null,
   "outputs": [],
   "source": [
    "patienten_daten = np.array([[45, 1.82, 78.5], [35, 1.73, 56.3], [67, 1.87, 82], [23, 1.95, 90.4]])\n",
    "\n",
    "print(patienten_daten)"
   ],
   "metadata": {
    "collapsed": false,
    "pycharm": {
     "name": "#%%\n"
    }
   }
  },
  {
   "cell_type": "markdown",
   "source": [
    "Wie man in der Ausgabe sehen kann, wurden alle ganzen Zahlen automatisch in Fließkommazahlen umgewandelt. Wenn man den genauen Datentyp der Werte eines ndarrays wissen möchte, kann dies mit Hilfe des Befehls _dtype_ bestimmt werden."
   ],
   "metadata": {
    "collapsed": false,
    "pycharm": {
     "name": "#%% md\n"
    }
   }
  },
  {
   "cell_type": "code",
   "execution_count": null,
   "outputs": [],
   "source": [
    "print(\"Datentyp der Elemente des ndarrays patienten_daten:\", patienten_daten.dtype)"
   ],
   "metadata": {
    "collapsed": false,
    "pycharm": {
     "name": "#%%\n"
    }
   }
  },
  {
   "cell_type": "markdown",
   "source": [
    "Im <a href=\"https://numpy.org/doc/stable/user/basics.types.html\">online Manual</a> können weitere Informationen zu diesem und weiteren Datentypen nachgeschlagen werden."
   ],
   "metadata": {
    "collapsed": false,
    "pycharm": {
     "name": "#%% md\n"
    }
   }
  },
  {
   "cell_type": "markdown",
   "source": [
    "Ein weiterer nützlicher Befehl für _ndarrays_ ist _shape_. Dieser gibt die Dimensionen des _ndarrays_ an, also die Anzahl der Elemente entlang jeder Achse."
   ],
   "metadata": {
    "collapsed": false,
    "pycharm": {
     "name": "#%% md\n"
    }
   }
  },
  {
   "cell_type": "code",
   "execution_count": null,
   "outputs": [],
   "source": [
    "print(\"Dimension des ndarrays patienten_daten:\", patienten_daten.shape)"
   ],
   "metadata": {
    "collapsed": false,
    "pycharm": {
     "name": "#%%\n"
    }
   }
  },
  {
   "cell_type": "markdown",
   "source": [
    "### Zugriff auf die Elemente in einem _ndarray_\n",
    "\n",
    "Da der Aufbau eines _ndarrays_ einer Liste sehr ähnlich ist, erfolgt auch der Zugriff auf die Elemente in ähnlicher Weise. Man kann auf die Elemente in einem _ndarray_ über deren Indexe zugreifen. Dabei muss beachtet werden, dass die Indexnummerierung in _ndarrays_ genau wie in den Listen mit Null anfängt."
   ],
   "metadata": {
    "collapsed": false,
    "pycharm": {
     "name": "#%% md\n"
    }
   }
  },
  {
   "cell_type": "code",
   "execution_count": null,
   "outputs": [],
   "source": [
    "print(\"Element in der zweiten Zeile und dritten Spalte des Arrays patienten_daten:\", patienten_daten[1,2])"
   ],
   "metadata": {
    "collapsed": false,
    "pycharm": {
     "name": "#%%\n"
    }
   }
  },
  {
   "cell_type": "markdown",
   "source": [
    "Man kann auch ganze Zeilen oder Spalten eines _ndarrays_ ausgeben oder in einem weiteren _ndarray_ speichern. Um die Werte aller Spalten im neuen Array zu speichern, muss man in der zweiten Dimension einen Doppelpunkt angeben."
   ],
   "metadata": {
    "collapsed": false,
    "pycharm": {
     "name": "#%% md\n"
    }
   }
  },
  {
   "cell_type": "code",
   "execution_count": null,
   "outputs": [],
   "source": [
    "patient_4 = patienten_daten[3,:]\n",
    "\n",
    "print(\"Daten des vierten Patienten aus dem Array patienten_daten:\", patient_4)"
   ],
   "metadata": {
    "collapsed": false,
    "pycharm": {
     "name": "#%%\n"
    }
   }
  },
  {
   "cell_type": "markdown",
   "source": [
    "Auf ähnliche Weise können die Elemente einer Spalte in einem neuen _ndarray_ gespeichert werden. Hier muss man in der ersten Dimension einen Doppelpunkt angeben. In der zweiten Dimension wird der Index der entsprechenden Spalte angegeben."
   ],
   "metadata": {
    "collapsed": false,
    "pycharm": {
     "name": "#%% md\n"
    }
   }
  },
  {
   "cell_type": "code",
   "execution_count": null,
   "outputs": [],
   "source": [
    "patienten_alter = patienten_daten[:, 0]\n",
    "\n",
    "print(\"Alter aller Patienten des Array patienten_daten:\", patienten_alter)"
   ],
   "metadata": {
    "collapsed": false,
    "pycharm": {
     "name": "#%%\n"
    }
   }
  },
  {
   "cell_type": "markdown",
   "source": [
    "Möchte man den Werte eines Elementes in einem _ndarray_ ändern, wird das Element über seinen Index angesprochen und ihm ein neuer Wert zugewiesen."
   ],
   "metadata": {
    "collapsed": false,
    "pycharm": {
     "name": "#%% md\n"
    }
   }
  },
  {
   "cell_type": "code",
   "execution_count": null,
   "outputs": [],
   "source": [
    "print(\"Array patienten_daten vor der Änderung:\")\n",
    "print(patienten_daten)\n",
    "print()\n",
    "\n",
    "patienten_daten[1, 1] = 1.92\n",
    "\n",
    "print(\"Array patienten_daten nach der Änderung:\")\n",
    "print(patienten_daten)"
   ],
   "metadata": {
    "collapsed": false,
    "pycharm": {
     "name": "#%%\n"
    }
   }
  },
  {
   "cell_type": "markdown",
   "source": [
    "### Suche in _ndarrays_\n",
    "\n",
    "In _ndarrays_ kann man mit der <a href=\"https://numpy.org/doc/stable/reference/generated/numpy.where.html\">_where()_</a>-Funktion die Position eines Elements mit bestimmten Eigenschaften ausgeben lassen. Dabei wird das Ergebnis in einem Array gespeichert."
   ],
   "metadata": {
    "collapsed": false,
    "pycharm": {
     "name": "#%% md\n"
    }
   }
  },
  {
   "cell_type": "code",
   "execution_count": null,
   "outputs": [],
   "source": [
    "print(\"Indizes der Patiente, die älter als 35 Jahre sind:\", np.where(patienten_daten[:,0] > 35))\n",
    "\n",
    "print(\"Indizes der Patiente, die älter oder genau 35 Jahre sind:\", np.where(patienten_daten[:,0] >= 35))\n",
    "\n",
    "print(\"Indizes der Patiente, die genau 35 Jahre sind:\", np.where(patienten_daten[:,0] == 35))"
   ],
   "metadata": {
    "collapsed": false,
    "pycharm": {
     "name": "#%%\n"
    }
   }
  }
 ],
 "metadata": {
  "kernelspec": {
   "display_name": "Python 3",
   "language": "python",
   "name": "python3"
  },
  "language_info": {
   "codemirror_mode": {
    "name": "ipython",
    "version": 2
   },
   "file_extension": ".py",
   "mimetype": "text/x-python",
   "name": "python",
   "nbconvert_exporter": "python",
   "pygments_lexer": "ipython2",
   "version": "2.7.6"
  }
 },
 "nbformat": 4,
 "nbformat_minor": 0
}