{
 "cells": [
  {
   "cell_type": "markdown",
   "source": [
    "In der unten stehenden Datentabelle sind die Kaltmiete, Wohnfläche und das Baujahr für fünf Wohnungen zusammengefasst. Die Werte dieser Tabelle werden in einem _ndarray_ _wohnungsdaten_ gespeichert."
   ],
   "metadata": {
    "collapsed": false,
    "pycharm": {
     "name": "#%% md\n"
    }
   }
  },
  {
   "cell_type": "markdown",
   "source": [
    "<center>\n",
    "<table>\n",
    "  <tr>\n",
    "    <th> <center></center> </th>\n",
    "    <th> Kaltmiete in Euro </th>\n",
    "    <th> Wohnfläche in qm</th>\n",
    "    <th> Baujahr </th>\n",
    "  </tr>\n",
    "  <tr>\n",
    "    <td> Wohnung 1 </td>\n",
    "    <td> <center>649</center> </td>\n",
    "    <td> <center>73</center> </td>\n",
    "    <td> <center>1954</center> </td>\n",
    "  </tr>\n",
    "    <tr>\n",
    "    <td> Wohnung 2 </td>\n",
    "    <td> <center>1040</center> </td>\n",
    "    <td> <center>83</center> </td>\n",
    "    <td> <center>2022</center> </td>\n",
    "  </tr>\n",
    "    <tr>\n",
    "    <td> Wohnung 3 </td>\n",
    "    <td> <center>650</center> </td>\n",
    "    <td> <center>65</center> </td>\n",
    "    <td> <center>1954</center> </td>\n",
    "  </tr>\n",
    "    <tr>\n",
    "    <td> Wohnung 4 </td>\n",
    "    <td> <center>1040</center> </td>\n",
    "    <td> <center>56</center> </td>\n",
    "    <td> <center>1875</center> </td>\n",
    "  </tr>\n",
    "    <tr>\n",
    "    <td> Wohnung 5 </td>\n",
    "    <td> <center>858</center> </td>\n",
    "    <td> <center>65</center> </td>\n",
    "    <td> <center>2022</center> </td>\n",
    "  </tr>\n",
    "</table>\n",
    "</center>"
   ],
   "metadata": {
    "collapsed": false,
    "pycharm": {
     "name": "#%% md\n"
    }
   }
  },
  {
   "cell_type": "code",
   "execution_count": null,
   "outputs": [],
   "source": [
    "# Bitte den folgenden Programmcode vor Bearbeitung der Aufgaben ausführen\n",
    "\n",
    "from scipy import stats\n",
    "import numpy as np\n",
    "\n",
    "# Wir legen die Werte der Datentabelle in einem ndarray ab.\n",
    "wohnungsdaten = np.array([[649, 73, 1954], [1040, 83, 2022],\n",
    "                          [650, 65, 1954], [1040, 56, 1875],\n",
    "                          [858, 65, 2022]])\n",
    "\n",
    "print(wohnungsdaten)"
   ],
   "metadata": {
    "collapsed": false,
    "pycharm": {
     "name": "#%%\n"
    }
   }
  },
  {
   "cell_type": "markdown",
   "source": [
    "# Aufgabe (_Minimalwert_)\n",
    "\n",
    "Schreibe eine Anweisung, die den Minimalwert für jedes Merkmal der oberen Datentabelle berechnet. Dabei soll keine Untergrenze angegeben werden."
   ],
   "metadata": {
    "collapsed": false,
    "pycharm": {
     "name": "#%% md\n"
    }
   }
  },
  {
   "cell_type": "code",
   "execution_count": null,
   "outputs": [],
   "source": [
    "# Hier kommt deine Lösung\n",
    "\n"
   ],
   "metadata": {
    "collapsed": false,
    "pycharm": {
     "name": "#%%\n"
    }
   }
  },
  {
   "cell_type": "markdown",
   "source": [
    "# Aufgabe (_Maximalwert_)\n",
    "\n",
    "Schreibe eine Anweisung, die den Maximalwert für jedes Merkmal der oberen Datentabelle berechnet."
   ],
   "metadata": {
    "collapsed": false,
    "pycharm": {
     "name": "#%% md\n"
    }
   }
  },
  {
   "cell_type": "code",
   "execution_count": null,
   "outputs": [],
   "source": [
    "# Hier kommt deine Lösung\n",
    "\n"
   ],
   "metadata": {
    "collapsed": false,
    "pycharm": {
     "name": "#%%\n"
    }
   }
  },
  {
   "cell_type": "markdown",
   "source": [
    "# Aufgabe (_Modus_)\n",
    "\n",
    "Schreibe eine Anweisung, die die Modi der Merkmale für die obere Datentabelle berechnet. Dabei sollen diese in einem eindimensionalen Array ausgegeben werden."
   ],
   "metadata": {
    "collapsed": false,
    "pycharm": {
     "name": "#%% md\n"
    }
   }
  },
  {
   "cell_type": "code",
   "execution_count": null,
   "outputs": [],
   "source": [
    "# Hier kommt deine Lösung\n",
    "\n"
   ],
   "metadata": {
    "collapsed": false,
    "pycharm": {
     "name": "#%%\n"
    }
   }
  },
  {
   "cell_type": "markdown",
   "source": [
    "# Aufgabe (_Mittelwert_)\n",
    "\n",
    "Schreibe eine Anweisung, die die Mittelwerte aller Merkmale der oberen Datentabelle berechnet."
   ],
   "metadata": {
    "collapsed": false,
    "pycharm": {
     "name": "#%% md\n"
    }
   }
  },
  {
   "cell_type": "code",
   "execution_count": null,
   "outputs": [],
   "source": [
    "# Hier kommt deine Lösung\n",
    "\n"
   ],
   "metadata": {
    "collapsed": false,
    "pycharm": {
     "name": "#%%\n"
    }
   }
  },
  {
   "cell_type": "markdown",
   "source": [
    "# Aufgabe (_Median_)\n",
    "\n",
    "Schreibe eine Anweisung, die die Mediane aller Merkmale der oberen Datentabelle berechnet."
   ],
   "metadata": {
    "collapsed": false,
    "pycharm": {
     "name": "#%% md\n"
    }
   }
  },
  {
   "cell_type": "code",
   "execution_count": null,
   "outputs": [],
   "source": [
    "# Hier kommt deine Lösung\n",
    "\n"
   ],
   "metadata": {
    "collapsed": false,
    "pycharm": {
     "name": "#%%\n"
    }
   }
  }
 ],
 "metadata": {
  "kernelspec": {
   "display_name": "Python 3",
   "language": "python",
   "name": "python3"
  },
  "language_info": {
   "codemirror_mode": {
    "name": "ipython",
    "version": 2
   },
   "file_extension": ".py",
   "mimetype": "text/x-python",
   "name": "python",
   "nbconvert_exporter": "python",
   "pygments_lexer": "ipython2",
   "version": "2.7.6"
  }
 },
 "nbformat": 4,
 "nbformat_minor": 0
}