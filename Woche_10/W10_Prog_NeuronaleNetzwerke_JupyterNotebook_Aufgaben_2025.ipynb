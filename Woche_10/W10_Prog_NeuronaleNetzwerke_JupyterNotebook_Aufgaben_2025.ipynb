{
 "cells": [
  {
   "metadata": {},
   "cell_type": "markdown",
   "source": [
    "### Aufgabe _(Aufbau eines neuronalen Netzes)_\n",
    "\n",
    "Unten wurde ein sequenzielles Feed-Forward-Netz mit zwei Neuronen in der Eingabeschicht, fünf Neuronen in der verborgenen vollständig verbundenen Schicht und zwei Neuronen in der Ausgabeschicht implementiert.\n",
    "\n",
    "Ändere das Programm so ab, dass das Feed-Forward-Netz\n",
    "\n",
    "- vier Neuronen in der Eingabeschicht,\n",
    "- zehn Neuronen in der verborgenen vollständig verbundenen Schicht und\n",
    "- drei Neuronen in der Ausgabeschicht\n",
    "\n",
    "hat."
   ],
   "id": "a9455fb0552b6e44"
  },
  {
   "metadata": {},
   "cell_type": "code",
   "source": [
    "# Führe diese Anweisung vor der Lösung der Aufgaben aus\n",
    "import keras"
   ],
   "id": "6540fe5745cefc07",
   "outputs": [],
   "execution_count": null
  },
  {
   "metadata": {},
   "cell_type": "code",
   "source": [
    "model = keras.Sequential()\n",
    "model.add(keras.Input(shape=(2,)))\n",
    "model.add(keras.layers.Dense(units=5, activation=\"relu\"))\n",
    "model.add(keras.layers.Dense(units=2, activation = \"softmax\"))"
   ],
   "id": "d3568fa9d36113ca",
   "outputs": [],
   "execution_count": null
  },
  {
   "metadata": {},
   "cell_type": "markdown",
   "source": [
    "### Aufgabe _(Berechnung der Modellparameter)_\n",
    "\n",
    "Schreibe eine Anweisung, mit deren Hilfe eine detaillierte Beschreibung einzelner Schichten des oberen Modells inklusive ihrer Ausgaben und der Anzahl der trainierbaren Parameter angezeigt wird.\n"
   ],
   "id": "c7033cd6409b1daa"
  },
  {
   "metadata": {},
   "cell_type": "code",
   "source": "# Hier kommt deine Lösung\n",
   "id": "c5c0e18eaa64c63c",
   "outputs": [],
   "execution_count": null
  }
 ],
 "metadata": {
  "kernelspec": {
   "display_name": "Python 3",
   "language": "python",
   "name": "python3"
  },
  "language_info": {
   "codemirror_mode": {
    "name": "ipython",
    "version": 2
   },
   "file_extension": ".py",
   "mimetype": "text/x-python",
   "name": "python",
   "nbconvert_exporter": "python",
   "pygments_lexer": "ipython2",
   "version": "2.7.6"
  }
 },
 "nbformat": 4,
 "nbformat_minor": 5
}
